{
  "nbformat": 4,
  "nbformat_minor": 0,
  "metadata": {
    "colab": {
      "private_outputs": true,
      "provenance": [],
      "collapsed_sections": [
        "FJNUwmbgGyua",
        "JcMwzZxoAimU",
        "gIfDvo9L0UH2"
      ],
      "include_colab_link": true
    },
    "kernelspec": {
      "name": "python3",
      "display_name": "Python 3"
    },
    "language_info": {
      "name": "python"
    }
  },
  "cells": [
    {
      "cell_type": "markdown",
      "metadata": {
        "id": "view-in-github",
        "colab_type": "text"
      },
      "source": [
        "<a href=\"https://colab.research.google.com/github/mithun-mith/Assignment--Product-Dissection/blob/main/Capstone_Project_Capstone_End_to_End_Machine_Learning_Mithun.ipynb\" target=\"_parent\"><img src=\"https://colab.research.google.com/assets/colab-badge.svg\" alt=\"Open In Colab\"/></a>"
      ]
    },
    {
      "cell_type": "markdown",
      "source": [
        "# **Project Name**    -  Regression - Yes Bank Stock Closing Price Prediction\n",
        "\n"
      ],
      "metadata": {
        "id": "vncDsAP0Gaoa"
      }
    },
    {
      "cell_type": "markdown",
      "source": [
        "## **Project Type**    - Regression - Yes Bank Stock Closing Price Prediction\n",
        "## **Contribution**    - Individual\n",
        "## **Team Member 1 -** - Mithun tulshidas Waghmare\n"
      ],
      "metadata": {
        "id": "beRrZCGUAJYm"
      }
    },
    {
      "cell_type": "markdown",
      "source": [
        "# **Project Summary -**"
      ],
      "metadata": {
        "id": "FJNUwmbgGyua"
      }
    },
    {
      "cell_type": "markdown",
      "source": [
        "#Business Context\n",
        "\n",
        "Yes Bank is a well-known bank in the Indian financial domain. Since 2018, it has been in the news because of the fraud case involving Rana Kapoor. Owing to this fact, it was interesting to see how that impacted the stock prices of the company and whether Time series models or any other predictive models can do justice to such situations. This dataset has monthly stock prices of the bank since its inception and includes closing, starting, highest, and lowest stock prices of every month. The main objective is to predict the stock’s closing price of the month.\n",
        "\n",
        "# Main Libraries to be Used:\n",
        "* Pandas for data manipulation, aggregation\n",
        "* Matplotlib and Seaborn for visualisation and behaviour with respect to the target variable\n",
        "* NumPy for computationally efficient operations\n",
        "* Scikit Learn for model training, model optimization, and metrics calculation\n",
        "\n",
        "#Efficient EDA\n",
        "* Understanding of how to prep the data and make it ready for training.\n",
        "* Understanding the target feature and its distribution\n",
        "* Assessing target features for class imbalance.\n",
        "* Modeling - which algorithm to use?\n",
        "* Evaluation while keeping class imbalance in mind.\n",
        "* Feature Importance and Conclusion\n",
        "* Understanding how your project is useful to stakeholders"
      ],
      "metadata": {
        "id": "F6v_1wHtG2nS"
      }
    },
    {
      "cell_type": "markdown",
      "source": [
        "# **GitHub Link -**"
      ],
      "metadata": {
        "id": "w6K7xa23Elo4"
      }
    },
    {
      "cell_type": "markdown",
      "source": [
        "Provide your GitHub Link here."
      ],
      "metadata": {
        "id": "h1o69JH3Eqqn"
      }
    },
    {
      "cell_type": "markdown",
      "source": [
        "# ***Let's Begin !***"
      ],
      "metadata": {
        "id": "O_i_v8NEhb9l"
      }
    },
    {
      "cell_type": "code",
      "source": [
        "from google.colab import drive\n",
        "drive.mount('/content/drive')"
      ],
      "metadata": {
        "id": "XPlSek2hQRUC"
      },
      "execution_count": null,
      "outputs": []
    },
    {
      "cell_type": "code",
      "source": [
        "import pandas as pd\n",
        "import matplotlib.pyplot as plt"
      ],
      "metadata": {
        "id": "4i1ViCO2O_6M"
      },
      "execution_count": null,
      "outputs": []
    },
    {
      "cell_type": "code",
      "source": [
        "# Loading the data from drive\n",
        "data = pd.read_csv('/content/drive/MyDrive/data_YesBank_StockPrices (1).csv')\n"
      ],
      "metadata": {
        "id": "jmTPAbSiO_3l"
      },
      "execution_count": null,
      "outputs": []
    },
    {
      "cell_type": "code",
      "source": [
        "data.head()"
      ],
      "metadata": {
        "id": "lCUYUyU5O_wP"
      },
      "execution_count": null,
      "outputs": []
    },
    {
      "cell_type": "code",
      "source": [
        "# Check for missing values\n",
        "print(data.isnull().sum())"
      ],
      "metadata": {
        "id": "-QiKtzeFU7SW"
      },
      "execution_count": null,
      "outputs": []
    },
    {
      "cell_type": "code",
      "source": [
        "#check the duplicated values\n",
        "print(data.duplicated().sum)"
      ],
      "metadata": {
        "id": "-16iub4rU-Ym"
      },
      "execution_count": null,
      "outputs": []
    },
    {
      "cell_type": "code",
      "source": [
        "# Converting 'Date' column to datetime format\n",
        "data['Date'] = pd.to_datetime(data['Date'], format='%b-%y')"
      ],
      "metadata": {
        "id": "J0SWEGBgTXBC"
      },
      "execution_count": null,
      "outputs": []
    },
    {
      "cell_type": "code",
      "source": [
        "# creating the 'Date' column is set as the index\n",
        "data.set_index('Date', inplace=True)"
      ],
      "metadata": {
        "id": "BCLdj_V1TWuY"
      },
      "execution_count": null,
      "outputs": []
    },
    {
      "cell_type": "code",
      "source": [
        "data.head()"
      ],
      "metadata": {
        "id": "1bpX3N7XTop0"
      },
      "execution_count": null,
      "outputs": []
    },
    {
      "cell_type": "code",
      "source": [
        "# Summary statistics\n",
        "print(data.describe())"
      ],
      "metadata": {
        "id": "xeg_XfVtO_tM"
      },
      "execution_count": null,
      "outputs": []
    },
    {
      "cell_type": "code",
      "source": [
        "data.info()"
      ],
      "metadata": {
        "id": "uCF9lhUZUAqD"
      },
      "execution_count": null,
      "outputs": []
    },
    {
      "cell_type": "code",
      "source": [
        "# Plotting closing prices over time\n",
        "plt.figure(figsize=(14, 7))\n",
        "plt.plot(data.index, data['Close'], label='Closing Price')\n",
        "plt.title('Yes Bank Stock Prices Over Time')\n",
        "plt.xlabel('Date')\n",
        "plt.ylabel('Closing Price')\n",
        "plt.xticks(rotation=90)\n",
        "plt.legend()\n",
        "plt.show()\n"
      ],
      "metadata": {
        "id": "0oIghJLbTVA0"
      },
      "execution_count": null,
      "outputs": []
    },
    {
      "cell_type": "markdown",
      "source": [
        "## Insights\n",
        "\n",
        "Overall, the stock price has trended downwards since 2008. The price peaked at around ₹350 in 2018 and has since fallen to around ₹50 in 2020.\n",
        "\n",
        "the price dropped sharply in 2012 and again in 2019.The stock price has been relatively stable since 2020."
      ],
      "metadata": {
        "id": "_hVSxD9lZz7X"
      }
    },
    {
      "cell_type": "code",
      "source": [
        " # visualize the distribution of the target feature 'Close'.\n",
        "plt.figure(figsize=(14, 7))\n",
        "plt.hist(data['Close'], bins=20, color='skyblue', edgecolor='black')\n",
        "plt.title('Distribution of Closing Prices')\n",
        "plt.xlabel('Closing Price')\n",
        "plt.ylabel('Frequency')\n",
        "plt.show()\n"
      ],
      "metadata": {
        "id": "JhJ3V6sPURnT"
      },
      "execution_count": null,
      "outputs": []
    },
    {
      "cell_type": "markdown",
      "source": [
        "##Insights\n",
        "\n",
        "The distribution of closing prices is right-skewed, which means there are more stocks with lower closing prices than there are stocks with higher closing prices. The median closing price is likely to be lower than the mean closing price.\n",
        "\n",
        "The distribution of closing prices is relatively flat.There are a few stocks with very high closing prices, but there are also a lot of stocks with closing prices that are clustered around the median.\n"
      ],
      "metadata": {
        "id": "FHxHtdL1ZQPx"
      }
    },
    {
      "cell_type": "markdown",
      "source": [
        "Regression tasks, we typically focus on metrics like Mean Absolute Error (MAE), Mean Squared Error (MSE), and Root Mean Squared Error (RMSE) to evaluate the performance of the regression model."
      ],
      "metadata": {
        "id": "ccoq1C2qbwFm"
      }
    },
    {
      "cell_type": "code",
      "source": [
        "from sklearn.model_selection import train_test_split\n",
        "from sklearn.metrics import mean_absolute_error, mean_squared_error\n",
        "import numpy as np"
      ],
      "metadata": {
        "id": "X0IoZiVDURj0"
      },
      "execution_count": null,
      "outputs": []
    },
    {
      "cell_type": "code",
      "source": [
        "# Assuming 'Close' is the target variable\n",
        "X = data.drop('Close', axis=1)  # Features\n",
        "y = data['Close']  # Target"
      ],
      "metadata": {
        "id": "wGBvGWDCURhT"
      },
      "execution_count": null,
      "outputs": []
    },
    {
      "cell_type": "code",
      "source": [
        "X.head()"
      ],
      "metadata": {
        "id": "JidWyykZcAln"
      },
      "execution_count": null,
      "outputs": []
    },
    {
      "cell_type": "code",
      "source": [
        "y.head()"
      ],
      "metadata": {
        "id": "VY8OVc3fcAil"
      },
      "execution_count": null,
      "outputs": []
    },
    {
      "cell_type": "code",
      "source": [
        "# Split the data into training and testing sets\n",
        "X_train, X_test, y_train, y_test = train_test_split(X, y, test_size=0.2, random_state=42)"
      ],
      "metadata": {
        "id": "7AqQGec-cAgY"
      },
      "execution_count": null,
      "outputs": []
    },
    {
      "cell_type": "code",
      "source": [
        "from sklearn.linear_model import LinearRegression"
      ],
      "metadata": {
        "id": "CrB6-rQOlCun"
      },
      "execution_count": null,
      "outputs": []
    },
    {
      "cell_type": "code",
      "source": [
        "# linear regression model creating the object called lr\n",
        "lr = LinearRegression()"
      ],
      "metadata": {
        "id": "TV9yNFONcAeW"
      },
      "execution_count": null,
      "outputs": []
    },
    {
      "cell_type": "code",
      "source": [
        "# Train the model\n",
        "lr.fit(X_train, y_train)"
      ],
      "metadata": {
        "id": "t9bDMggrcp_F"
      },
      "execution_count": null,
      "outputs": []
    },
    {
      "cell_type": "code",
      "source": [
        "# Make predictions on the test set\n",
        "y_pred = lr.predict(X_test)"
      ],
      "metadata": {
        "id": "keRwGvVocrqW"
      },
      "execution_count": null,
      "outputs": []
    },
    {
      "cell_type": "code",
      "source": [
        "# Calculate evaluation metrics\n",
        "mae = mean_absolute_error(y_test, y_pred)\n",
        "mse = mean_squared_error(y_test, y_pred)\n",
        "rmse = np.sqrt(mse)"
      ],
      "metadata": {
        "id": "AIBAzdl2dFCg"
      },
      "execution_count": null,
      "outputs": []
    },
    {
      "cell_type": "code",
      "source": [
        "# Results the metrics\n",
        "print(\"linear regression:\")\n",
        "print(f'MAE: {mae:.2f}')\n",
        "print(f'RMSE: {rmse:.2f}')\n",
        "print(f'MSE: {mse:.2f}')"
      ],
      "metadata": {
        "id": "EzAVuNrhdE_L"
      },
      "execution_count": null,
      "outputs": []
    },
    {
      "cell_type": "code",
      "source": [
        "from sklearn.ensemble import RandomForestRegressor"
      ],
      "metadata": {
        "id": "3Vn-ePCCdE8z"
      },
      "execution_count": null,
      "outputs": []
    },
    {
      "cell_type": "code",
      "source": [
        "# Random Forest regression model creating the object called rf_model\n",
        "rf_model = RandomForestRegressor()"
      ],
      "metadata": {
        "id": "6pHsSYeslZL3"
      },
      "execution_count": null,
      "outputs": []
    },
    {
      "cell_type": "code",
      "source": [
        "# Random Forest Regressor\n",
        "rf_model.fit(X_train, y_train)\n",
        "\n",
        "# Make predictions on the test set\n",
        "rf_pred= rf_model.predict(X_test)"
      ],
      "metadata": {
        "id": "9yN8g0DhePc2"
      },
      "execution_count": null,
      "outputs": []
    },
    {
      "cell_type": "code",
      "source": [
        "# Evaluate models\n",
        "rf_mae = mean_absolute_error(y_test, rf_pred)\n",
        "rf_rmse = np.sqrt(mean_squared_error(y_test, rf_pred))\n"
      ],
      "metadata": {
        "id": "ZbzvgliKelLf"
      },
      "execution_count": null,
      "outputs": []
    },
    {
      "cell_type": "code",
      "source": [
        "# Display results\n",
        "print(\"Random Forest Regressor:\")\n",
        "print(f\"MAE: {rf_mae:.2f}\")\n",
        "print(f\"RMSE: {rf_rmse:.2f}\")"
      ],
      "metadata": {
        "id": "4XaLn9_JePMC"
      },
      "execution_count": null,
      "outputs": []
    },
    {
      "cell_type": "code",
      "source": [
        "from sklearn.ensemble import GradientBoostingRegressor"
      ],
      "metadata": {
        "id": "WJpLiGYrfLCS"
      },
      "execution_count": null,
      "outputs": []
    },
    {
      "cell_type": "code",
      "source": [
        "# Gradient Boosting regression model creating the object called gb_model\n",
        "gb_model = GradientBoostingRegressor()"
      ],
      "metadata": {
        "id": "mn68zB2Zl6BM"
      },
      "execution_count": null,
      "outputs": []
    },
    {
      "cell_type": "code",
      "source": [
        "# Gradient Boosting Regressor\n",
        "gb_model.fit(X_train, y_train)\n",
        "\n",
        "# Make predictions on the test set\n",
        "gb_pred= gb_model.predict(X_test)"
      ],
      "metadata": {
        "id": "NgYFpdpGfV94"
      },
      "execution_count": null,
      "outputs": []
    },
    {
      "cell_type": "code",
      "source": [
        "# Evaluate the model\n",
        "gb_mae = mean_absolute_error(y_test, gb_pred)\n",
        "gb_rmse = np.sqrt(mean_squared_error(y_test, gb_pred))\n"
      ],
      "metadata": {
        "id": "p_GrlTVufXhP"
      },
      "execution_count": null,
      "outputs": []
    },
    {
      "cell_type": "code",
      "source": [
        "# Display results\n",
        "print(\"Gradient Boosting Regressor:\")\n",
        "print(f\"MAE: {gb_mae:.2f}\")\n",
        "print(f\"RMSE: {gb_rmse:.2f}\")"
      ],
      "metadata": {
        "id": "5y3NEF-xfXe1"
      },
      "execution_count": null,
      "outputs": []
    },
    {
      "cell_type": "markdown",
      "source": [
        "##Observations\n",
        "\n",
        "Linear Regression has the lowest MAE and RMSE, indicating that, on average, its predictions are closer to the actual values compared to the other models.\n",
        "Random Forest Regressor and Gradient Boosting Regressor have higher MAE and RMSE than Linear Regression, suggesting that their predictions have a higher average error.\n",
        "\n",
        "##Conclusion\n",
        "\n",
        "Based on the provided evaluation metrics, the Linear Regression model appears to be the best fit for this task."
      ],
      "metadata": {
        "id": "Fjb1IsQkh3yE"
      }
    },
    {
      "cell_type": "markdown",
      "source": [
        "## **5. Solution to Business Objective**\n",
        "\n",
        "In this case, the Linear Regression model appears to be the most accurate based on the provided evaluation metrics (MAE and RMSE). Therefore, the recommended solution is to deploy and use the Linear Regression model for predicting the stock's closing price."
      ],
      "metadata": {
        "id": "JcMwzZxoAimU"
      }
    },
    {
      "cell_type": "markdown",
      "source": [
        "### ***Hurrah! You have successfully completed your EDA Capstone Project !!!***"
      ],
      "metadata": {
        "id": "gIfDvo9L0UH2"
      }
    }
  ]
}